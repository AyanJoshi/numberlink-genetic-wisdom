{
 "cells": [
  {
   "cell_type": "markdown",
   "metadata": {},
   "source": [
    "#### NumberLink: Using Genetic Algorithm and Wisdom of Crowds"
   ]
  },
  {
   "cell_type": "code",
   "execution_count": 1,
   "metadata": {},
   "outputs": [],
   "source": [
    "import random\n",
    "import numpy as np\n",
    "import matplotlib.pyplot as plt\n",
    "from collections import defaultdict"
   ]
  },
  {
   "cell_type": "markdown",
   "metadata": {},
   "source": [
    "#### Global Variables\n",
    "\n",
    "##### Think of each tuple in the LIST as the number in Numberlink, and the tuples inside each tuple as the start and end points of the number.\n",
    "\n",
    "##### So in this example:\n",
    "\n",
    "```python\n",
    "pairs = [((0, 0), (4, 4)), ((1, 1), (3, 3))]\n",
    "\n",
    "1 - - - -\n",
    "- 2 - - -\n",
    "- - - - -\n",
    "- - - 2 -\n",
    "- - - - 1\n"
   ]
  },
  {
   "cell_type": "code",
   "execution_count": 2,
   "metadata": {},
   "outputs": [],
   "source": [
    "grid_size = 20\n",
    "# We have 10 pairs of start and end points (i.e. 10 number pairs to find paths between)\n",
    "pairs = [((random.randint(0, grid_size-1), random.randint(0, grid_size-1)),\n",
    "          (random.randint(0, grid_size-1), random.randint(0, grid_size-1)))\n",
    "         for _ in range(10)]\n",
    "population_size = 200 # Idk if this is a good number but let's assume hehe\n",
    "mutation_rate = 0.01 # need to experiment with this\n",
    "generations = 2000 # 1000 seems good\n",
    "stopping_threshold = 500  # Number of generations with no improvement (i.e. our early stopping condition to prevent running forever lmao)\n",
    "expert_percentage = 0.4 # 30% of the population will be experts\n",
    "num_elites = 5 \n",
    "\n",
    "DIRECTIONS = [(0, 1), (1, 0), (0, -1), (-1, 0)]  # Right, Down, Left, Up, makes sense? :D"
   ]
  },
  {
   "cell_type": "markdown",
   "metadata": {},
   "source": [
    "#### Generate a random path given a start and an end coordinate"
   ]
  },
  {
   "cell_type": "code",
   "execution_count": 3,
   "metadata": {},
   "outputs": [],
   "source": [
    "def generate_random_path(start, end, grid_size):\n",
    "    path = [start]\n",
    "    current_position = start\n",
    "    while current_position != end:\n",
    "        possible_moves = []\n",
    "        for d in DIRECTIONS:\n",
    "            next_position = (current_position[0] + d[0], current_position[1] + d[1])\n",
    "            if 0 <= next_position[0] < grid_size and 0 <= next_position[1] < grid_size:\n",
    "                possible_moves.append(next_position)\n",
    "        if possible_moves:\n",
    "            current_position = random.choice(possible_moves)\n",
    "            path.append(current_position)\n",
    "    return path"
   ]
  },
  {
   "cell_type": "code",
   "execution_count": 4,
   "metadata": {},
   "outputs": [],
   "source": [
    "def initialize_population(population_size, pairs, grid_size):\n",
    "    population = []\n",
    "    for _ in range(population_size):\n",
    "        individual = {}\n",
    "        for i, (start, end) in enumerate(pairs):\n",
    "            individual[i] = generate_random_path(start, end, grid_size)\n",
    "        population.append(individual)\n",
    "    return population"
   ]
  },
  {
   "cell_type": "code",
   "execution_count": 5,
   "metadata": {},
   "outputs": [],
   "source": [
    "def fitness(individual, pairs, grid_size):\n",
    "    grid = np.zeros((grid_size, grid_size), dtype=int)\n",
    "    penalties = 0\n",
    "\n",
    "    for path_id, path in individual.items():\n",
    "        for pos in path:\n",
    "            if grid[pos[0], pos[1]] == 0:\n",
    "                grid[pos[0], pos[1]] = path_id + 1  # Mark cell with path ID\n",
    "            else:\n",
    "                penalties += 1  # Penalize overlapping cells\n",
    "\n",
    "    complete_paths = 0\n",
    "    for i, (start, end) in enumerate(pairs):\n",
    "        if end in individual[i]:\n",
    "            complete_paths += 1\n",
    "\n",
    "    return complete_paths - penalties  # Maximize complete paths, minimize overlaps"
   ]
  },
  {
   "cell_type": "code",
   "execution_count": 6,
   "metadata": {},
   "outputs": [],
   "source": [
    "def single_point_crossover(parent1, parent2, pairs):\n",
    "    crossover_point = random.randint(0, len(pairs) - 1)\n",
    "    child = {}\n",
    "    for i in range(len(pairs)):\n",
    "        if i <= crossover_point:\n",
    "            child[i] = parent1[i]\n",
    "        else:\n",
    "            child[i] = parent2[i]\n",
    "    return child"
   ]
  },
  {
   "cell_type": "code",
   "execution_count": 7,
   "metadata": {},
   "outputs": [],
   "source": [
    "def mutate(individual, mutation_rate, pairs, grid_size):\n",
    "    for i in range(len(pairs)):\n",
    "        if random.random() < mutation_rate:\n",
    "            individual[i] = generate_random_path(pairs[i][0], pairs[i][1], grid_size)\n",
    "    return individual"
   ]
  },
  {
   "cell_type": "code",
   "execution_count": 8,
   "metadata": {},
   "outputs": [],
   "source": [
    "def selection(population, pairs, grid_size, population_size):\n",
    "    population_sorted = sorted(population, key=lambda i: fitness(i, pairs, grid_size), reverse=True)\n",
    "    return population_sorted[:population_size // 2]"
   ]
  },
  {
   "cell_type": "code",
   "execution_count": 9,
   "metadata": {},
   "outputs": [],
   "source": [
    "def get_best_individual(population, pairs, grid_size):\n",
    "    best_individual = population[0]\n",
    "    best_fitness_score = fitness(best_individual, pairs, grid_size)\n",
    "    for individual in population:\n",
    "        current_fitness = fitness(individual, pairs, grid_size)\n",
    "        if current_fitness > best_fitness_score:\n",
    "            best_individual = individual\n",
    "            best_fitness_score = current_fitness\n",
    "    return best_individual"
   ]
  },
  {
   "cell_type": "code",
   "execution_count": 10,
   "metadata": {},
   "outputs": [],
   "source": [
    "def select_parent(population, pairs, grid_size):\n",
    "    # Randomly sample 5 individuals from the population\n",
    "    sample = random.sample(population, 5)  # Adjust sample size as needed\n",
    "    # Evaluate fitness for the sampled individuals\n",
    "    sampled_fitness = [fitness(individual, pairs, grid_size) for individual in sample]\n",
    "    # Select the individual with the best fitness\n",
    "    best_index = sampled_fitness.index(max(sampled_fitness))  # Max since we want the highest fitness\n",
    "    return sample[best_index]"
   ]
  },
  {
   "cell_type": "code",
   "execution_count": 11,
   "metadata": {},
   "outputs": [],
   "source": [
    "def aggregate_expert_solutions(experts, pairs, grid_size):\n",
    "    # Create a grid to count occurrences of paths\n",
    "    path_counts = defaultdict(int)\n",
    "    \n",
    "    # Count how many times each path is used in expert solutions\n",
    "    for expert in experts:\n",
    "        for path_id, path in expert.items():\n",
    "            for pos in path:\n",
    "                path_counts[pos] += 1  # Increment count for each position in the path\n",
    "\n",
    "    # Create a new individual based on the most common paths\n",
    "    new_individual = {}\n",
    "    for path_id in range(len(pairs)):\n",
    "        # Create a new path by taking the most common positions\n",
    "        common_path = [pos for pos, count in path_counts.items() if count > 0]  # Adjust threshold as necessary\n",
    "        if common_path:\n",
    "            new_individual[path_id] = random.sample(common_path, len(common_path))  # Randomly sample if needed\n",
    "\n",
    "    return new_individual"
   ]
  },
  {
   "cell_type": "code",
   "execution_count": 12,
   "metadata": {},
   "outputs": [],
   "source": [
    "def replace_with_expert_solution(population, experts, pairs, grid_size):\n",
    "    # Get the worst individual in the current population\n",
    "    worst_index = min(range(len(population)), key=lambda i: fitness(population[i], pairs, grid_size))\n",
    "    # Select a solution from experts\n",
    "    expert_solution = random.choice(experts)  # Choose a random expert solution\n",
    "    # Replace the worst individual with the expert solution\n",
    "    population[worst_index] = expert_solution"
   ]
  },
  {
   "cell_type": "code",
   "execution_count": 13,
   "metadata": {},
   "outputs": [],
   "source": [
    "def genetic_algorithm_wisdom(population, generations, mutation_rate, pairs, grid_size, stopping_threshold, expert_percentage):\n",
    "    best_fitness = -float('inf')\n",
    "    generations_no_improvement = 0\n",
    "\n",
    "    for generation in range(generations):\n",
    "        new_population = []\n",
    "        \n",
    "        #Identify elite individuals by picking the top 'n' performers (check global variable :D)\n",
    "        elites = sorted(population, key=lambda i: fitness(i, pairs, grid_size), reverse=True)[:num_elites]\n",
    "        new_population.extend(elites)  # Start with elites\n",
    "        \n",
    "        new_population = list(elites)  #Start with the elites\n",
    "\n",
    "        #Create expert group\n",
    "        num_experts = int(expert_percentage * len(population))\n",
    "        experts = sorted(population, key=lambda i: fitness(i, pairs, grid_size), reverse=True)[:num_experts]\n",
    "\n",
    "        # Generate new individuals through crossover\n",
    "        while len(new_population) < len(population):  # Maintain population size\n",
    "            parent1 = select_parent(population, pairs, grid_size)  # Select the first parent\n",
    "            parent2 = select_parent(population, pairs, grid_size)  # Select the second parent\n",
    "            \n",
    "            while parent2 == parent1:  # Ensure parents are not the same\n",
    "                parent2 = select_parent(population, pairs, grid_size)\n",
    "\n",
    "            # Crossover and mutation\n",
    "            child = single_point_crossover(parent1, parent2, pairs)\n",
    "            child = mutate(child, mutation_rate, pairs, grid_size)\n",
    "            \n",
    "            ###### WISDOM OF THE CROWD ###### UNCOMMENT THIS CODE LATER ON HMMMMGEEEEE############\n",
    "            # # Aggregate expert solutions and mix them into the child\n",
    "            # aggregated_solution = aggregate_expert_solutions(experts, pairs, grid_size)\n",
    "            # for path_id in aggregated_solution:\n",
    "            #     if path_id in child:\n",
    "            #         child[path_id] = aggregated_solution[path_id]  # Merge aggregated paths\n",
    "\n",
    "            new_population.append(child)\n",
    "\n",
    "        # THIS IS TEMPORARY, REPLACE WITH WISDOM OF THE CROWD LATER ON BY UNCOMMENTING ABOVE AND COMMENTING THIS HEHEHEHEH\n",
    "        replace_with_expert_solution(new_population, experts, pairs, grid_size)\n",
    "        \n",
    "        population = new_population  # Update the population\n",
    "        \n",
    "        # Evaluate fitness and update best individual\n",
    "        current_best_individual = get_best_individual(population, pairs, grid_size)\n",
    "        current_best_fitness = fitness(current_best_individual, pairs, grid_size)\n",
    "        \n",
    "        # Print the fitness for the current generation\n",
    "        print(f\"Generation {generation + 1}: Best Fitness = {current_best_fitness}\")\n",
    "\n",
    "        if current_best_fitness > best_fitness:\n",
    "            best_fitness = current_best_fitness\n",
    "            generations_no_improvement = 0\n",
    "        else:\n",
    "            generations_no_improvement += 1\n",
    "        \n",
    "        if generations_no_improvement >= stopping_threshold:\n",
    "            print(f\"Stopping early at generation {generation + 1} due to no improvement for {stopping_threshold} generations.\")\n",
    "            break\n",
    "            \n",
    "    return current_best_individual"
   ]
  },
  {
   "cell_type": "code",
   "execution_count": 14,
   "metadata": {},
   "outputs": [],
   "source": [
    "def plot_this_shit(best_individual, pairs, grid_size):\n",
    "    plt.figure(figsize=(8, 8))\n",
    "    \n",
    "    # Create a blank grid\n",
    "    for path_id, path in best_individual.items():\n",
    "        # Extract the x and y coordinates of the path\n",
    "        x_coords, y_coords = zip(*path)\n",
    "        plt.plot(y_coords, x_coords, linewidth=2)  # Draw the path\n",
    "    \n",
    "    # Plot numbers at start and end points based on success\n",
    "    for i, (start, end) in enumerate(pairs):\n",
    "        # Check if the path for the current pair reaches the end point\n",
    "        if end in best_individual[i]:  # If the end point is in the path\n",
    "            color = 'red'  # Success\n",
    "        else:\n",
    "            color = 'green'  # Failure\n",
    "        \n",
    "        # Annotate the grid with numbers, colored based on success\n",
    "        plt.text(start[1], start[0], str(i + 1), color=color, fontsize=12, ha='center', va='center')  # Number at start\n",
    "        plt.text(end[1], end[0], str(i + 1), color=color, fontsize=12, ha='center', va='center')    # Number at end\n",
    "\n",
    "    plt.title(\"Best Solution Visualization\")\n",
    "    plt.xlim(-0.5, grid_size - 0.5)  # Set x-axis limits\n",
    "    plt.ylim(grid_size - 0.5, -0.5)  # Invert y-axis\n",
    "    plt.xticks(range(grid_size))\n",
    "    plt.yticks(range(grid_size))\n",
    "    plt.grid(True)\n",
    "    plt.gca().set_aspect('equal', adjustable='box')  # Maintain aspect ratio\n",
    "    plt.show()"
   ]
  },
  {
   "cell_type": "markdown",
   "metadata": {},
   "source": [
    "#### Main"
   ]
  },
  {
   "cell_type": "code",
   "execution_count": 15,
   "metadata": {},
   "outputs": [
    {
     "name": "stdout",
     "output_type": "stream",
     "text": [
      "Starting Genetic Algorithm...\n",
      "Run 1/1\n",
      "Generation 1: Best Fitness = -2521\n",
      "Generation 2: Best Fitness = -2032\n",
      "Generation 3: Best Fitness = -1895\n",
      "Generation 4: Best Fitness = -1423\n",
      "Generation 5: Best Fitness = -1400\n"
     ]
    },
    {
     "ename": "KeyboardInterrupt",
     "evalue": "",
     "output_type": "error",
     "traceback": [
      "\u001b[0;31m---------------------------------------------------------------------------\u001b[0m",
      "\u001b[0;31mKeyboardInterrupt\u001b[0m                         Traceback (most recent call last)",
      "Cell \u001b[0;32mIn[15], line 11\u001b[0m\n\u001b[1;32m      8\u001b[0m \u001b[38;5;28mprint\u001b[39m(\u001b[38;5;124mf\u001b[39m\u001b[38;5;124m\"\u001b[39m\u001b[38;5;124mRun \u001b[39m\u001b[38;5;132;01m{\u001b[39;00mrun\u001b[38;5;250m \u001b[39m\u001b[38;5;241m+\u001b[39m\u001b[38;5;250m \u001b[39m\u001b[38;5;241m1\u001b[39m\u001b[38;5;132;01m}\u001b[39;00m\u001b[38;5;124m/\u001b[39m\u001b[38;5;132;01m{\u001b[39;00mnum_runs\u001b[38;5;132;01m}\u001b[39;00m\u001b[38;5;124m\"\u001b[39m)\n\u001b[1;32m     10\u001b[0m \u001b[38;5;66;03m# Run the genetic algorithm\u001b[39;00m\n\u001b[0;32m---> 11\u001b[0m current_best_individual \u001b[38;5;241m=\u001b[39m \u001b[43mgenetic_algorithm_wisdom\u001b[49m\u001b[43m(\u001b[49m\u001b[43mpopulation\u001b[49m\u001b[43m,\u001b[49m\u001b[43m \u001b[49m\u001b[43mgenerations\u001b[49m\u001b[43m,\u001b[49m\u001b[43m \u001b[49m\u001b[43mmutation_rate\u001b[49m\u001b[43m,\u001b[49m\u001b[43m \u001b[49m\u001b[43mpairs\u001b[49m\u001b[43m,\u001b[49m\u001b[43m \u001b[49m\u001b[43mgrid_size\u001b[49m\u001b[43m,\u001b[49m\u001b[43m \u001b[49m\u001b[43mstopping_threshold\u001b[49m\u001b[43m,\u001b[49m\u001b[43m \u001b[49m\u001b[43mexpert_percentage\u001b[49m\u001b[43m)\u001b[49m\n\u001b[1;32m     13\u001b[0m \u001b[38;5;66;03m# Evaluate the fitness of the current best individual\u001b[39;00m\n\u001b[1;32m     14\u001b[0m current_best_fitness \u001b[38;5;241m=\u001b[39m fitness(current_best_individual, pairs, grid_size)\n",
      "Cell \u001b[0;32mIn[13], line 20\u001b[0m, in \u001b[0;36mgenetic_algorithm_wisdom\u001b[0;34m(population, generations, mutation_rate, pairs, grid_size, stopping_threshold, expert_percentage)\u001b[0m\n\u001b[1;32m     18\u001b[0m \u001b[38;5;66;03m# Generate new individuals through crossover\u001b[39;00m\n\u001b[1;32m     19\u001b[0m \u001b[38;5;28;01mwhile\u001b[39;00m \u001b[38;5;28mlen\u001b[39m(new_population) \u001b[38;5;241m<\u001b[39m \u001b[38;5;28mlen\u001b[39m(population):  \u001b[38;5;66;03m# Maintain population size\u001b[39;00m\n\u001b[0;32m---> 20\u001b[0m     parent1 \u001b[38;5;241m=\u001b[39m \u001b[43mselect_parent\u001b[49m\u001b[43m(\u001b[49m\u001b[43mpopulation\u001b[49m\u001b[43m,\u001b[49m\u001b[43m \u001b[49m\u001b[43mpairs\u001b[49m\u001b[43m,\u001b[49m\u001b[43m \u001b[49m\u001b[43mgrid_size\u001b[49m\u001b[43m)\u001b[49m  \u001b[38;5;66;03m# Select the first parent\u001b[39;00m\n\u001b[1;32m     21\u001b[0m     parent2 \u001b[38;5;241m=\u001b[39m select_parent(population, pairs, grid_size)  \u001b[38;5;66;03m# Select the second parent\u001b[39;00m\n\u001b[1;32m     23\u001b[0m     \u001b[38;5;28;01mwhile\u001b[39;00m parent2 \u001b[38;5;241m==\u001b[39m parent1:  \u001b[38;5;66;03m# Ensure parents are not the same\u001b[39;00m\n",
      "Cell \u001b[0;32mIn[10], line 5\u001b[0m, in \u001b[0;36mselect_parent\u001b[0;34m(population, pairs, grid_size)\u001b[0m\n\u001b[1;32m      3\u001b[0m sample \u001b[38;5;241m=\u001b[39m random\u001b[38;5;241m.\u001b[39msample(population, \u001b[38;5;241m5\u001b[39m)  \u001b[38;5;66;03m# Adjust sample size as needed\u001b[39;00m\n\u001b[1;32m      4\u001b[0m \u001b[38;5;66;03m# Evaluate fitness for the sampled individuals\u001b[39;00m\n\u001b[0;32m----> 5\u001b[0m sampled_fitness \u001b[38;5;241m=\u001b[39m [\u001b[43mfitness\u001b[49m\u001b[43m(\u001b[49m\u001b[43mindividual\u001b[49m\u001b[43m,\u001b[49m\u001b[43m \u001b[49m\u001b[43mpairs\u001b[49m\u001b[43m,\u001b[49m\u001b[43m \u001b[49m\u001b[43mgrid_size\u001b[49m\u001b[43m)\u001b[49m \u001b[38;5;28;01mfor\u001b[39;00m individual \u001b[38;5;129;01min\u001b[39;00m sample]\n\u001b[1;32m      6\u001b[0m \u001b[38;5;66;03m# Select the individual with the best fitness\u001b[39;00m\n\u001b[1;32m      7\u001b[0m best_index \u001b[38;5;241m=\u001b[39m sampled_fitness\u001b[38;5;241m.\u001b[39mindex(\u001b[38;5;28mmax\u001b[39m(sampled_fitness))  \u001b[38;5;66;03m# Max since we want the highest fitness\u001b[39;00m\n",
      "Cell \u001b[0;32mIn[5], line 10\u001b[0m, in \u001b[0;36mfitness\u001b[0;34m(individual, pairs, grid_size)\u001b[0m\n\u001b[1;32m      8\u001b[0m             grid[pos[\u001b[38;5;241m0\u001b[39m], pos[\u001b[38;5;241m1\u001b[39m]] \u001b[38;5;241m=\u001b[39m path_id \u001b[38;5;241m+\u001b[39m \u001b[38;5;241m1\u001b[39m  \u001b[38;5;66;03m# Mark cell with path ID\u001b[39;00m\n\u001b[1;32m      9\u001b[0m         \u001b[38;5;28;01melse\u001b[39;00m:\n\u001b[0;32m---> 10\u001b[0m             penalties \u001b[38;5;241m+\u001b[39m\u001b[38;5;241m=\u001b[39m \u001b[38;5;241m1\u001b[39m  \u001b[38;5;66;03m# Penalize overlapping cells\u001b[39;00m\n\u001b[1;32m     12\u001b[0m complete_paths \u001b[38;5;241m=\u001b[39m \u001b[38;5;241m0\u001b[39m\n\u001b[1;32m     13\u001b[0m \u001b[38;5;28;01mfor\u001b[39;00m i, (start, end) \u001b[38;5;129;01min\u001b[39;00m \u001b[38;5;28menumerate\u001b[39m(pairs):\n",
      "\u001b[0;31mKeyboardInterrupt\u001b[0m: "
     ]
    }
   ],
   "source": [
    "population = initialize_population(population_size, pairs, grid_size)\n",
    "num_runs = 1  # Number of runs to perform (testing purposes)\n",
    "best_overall_individual = None\n",
    "best_overall_fitness = -float('inf')  # Initialize to a very low number\n",
    "\n",
    "print(\"Starting Genetic Algorithm...\")\n",
    "for run in range(num_runs):\n",
    "    print(f\"Run {run + 1}/{num_runs}\")\n",
    "    \n",
    "    # Run the genetic algorithm\n",
    "    current_best_individual = genetic_algorithm_wisdom(population, generations, mutation_rate, pairs, grid_size, stopping_threshold, expert_percentage)\n",
    "    \n",
    "    # Evaluate the fitness of the current best individual\n",
    "    current_best_fitness = fitness(current_best_individual, pairs, grid_size)\n",
    "    \n",
    "    print(f\"Best Fitness from Run {run + 1}: {current_best_fitness}\")\n",
    "    \n",
    "    # Check if the current run has the best fitness\n",
    "    if current_best_fitness > best_overall_fitness:\n",
    "        best_overall_fitness = current_best_fitness\n",
    "        best_overall_individual = current_best_individual\n",
    "\n",
    "# After all runs, visualize the best solution found\n",
    "print(f\"Best Overall Fitness: {best_overall_fitness}\")\n",
    "plot_this_shit(best_overall_individual, pairs, grid_size)"
   ]
  }
 ],
 "metadata": {
  "kernelspec": {
   "display_name": "Python 3",
   "language": "python",
   "name": "python3"
  },
  "language_info": {
   "codemirror_mode": {
    "name": "ipython",
    "version": 3
   },
   "file_extension": ".py",
   "mimetype": "text/x-python",
   "name": "python",
   "nbconvert_exporter": "python",
   "pygments_lexer": "ipython3",
   "version": "3.12.3"
  }
 },
 "nbformat": 4,
 "nbformat_minor": 2
}
